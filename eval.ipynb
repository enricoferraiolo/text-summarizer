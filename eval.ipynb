{
 "cells": [
  {
   "cell_type": "markdown",
   "metadata": {},
   "source": [
    "# Evaluate"
   ]
  },
  {
   "cell_type": "code",
   "execution_count": 13,
   "metadata": {},
   "outputs": [
    {
     "name": "stdout",
     "output_type": "stream",
     "text": [
      "Cosine similarity between original text and summary: 0.09162553399801254 ----- [[0.09162552]]\n",
      "Cosine similarity between original text and predicted summary: 0.718352198600769 ----- [[0.71835214]]\n"
     ]
    }
   ],
   "source": [
    "from sentence_transformers import SentenceTransformer\n",
    "import numpy as np\n",
    "from keras import backend as K\n",
    "\n",
    "K.clear_session()\n",
    "\n",
    "original_text = \"I adore this cereal. It is my favorite. I eat it every day.\"\n",
    "original_summary = \"love it\"\n",
    "predicted_summary = \"great cereal\"\n",
    "\n",
    "model = SentenceTransformer(\"all-mpnet-base-v2\")\n",
    "\n",
    "original_text_embedding = model.encode(original_text)\n",
    "original_summary_embedding = model.encode(original_summary)\n",
    "predicted_summary_embedding = model.encode(predicted_summary)\n",
    "\n",
    "cs_original = np.dot(original_text_embedding, original_summary_embedding) / (\n",
    "    np.linalg.norm(original_text_embedding) * np.linalg.norm(original_summary_embedding)\n",
    ")\n",
    "cs_predicted = np.dot(original_text_embedding, predicted_summary_embedding) / (\n",
    "    np.linalg.norm(original_text_embedding)\n",
    "    * np.linalg.norm(predicted_summary_embedding)\n",
    ")\n",
    "\n",
    "from sklearn.metrics.pairwise import cosine_similarity\n",
    "\n",
    "print(f\"Cosine similarity between original text and summary: {cs_original} ----- {cosine_similarity([original_text_embedding], [original_summary_embedding])}\")\n",
    "print(f\"Cosine similarity between original text and predicted summary: {cs_predicted} ----- {cosine_similarity([original_text_embedding], [predicted_summary_embedding])}\")"
   ]
  }
 ],
 "metadata": {
  "kernelspec": {
   "display_name": ".venv",
   "language": "python",
   "name": "python3"
  },
  "language_info": {
   "codemirror_mode": {
    "name": "ipython",
    "version": 3
   },
   "file_extension": ".py",
   "mimetype": "text/x-python",
   "name": "python",
   "nbconvert_exporter": "python",
   "pygments_lexer": "ipython3",
   "version": "3.12.3"
  }
 },
 "nbformat": 4,
 "nbformat_minor": 2
}
